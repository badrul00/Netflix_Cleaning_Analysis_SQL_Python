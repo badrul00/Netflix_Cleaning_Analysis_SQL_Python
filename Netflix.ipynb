{
 "cells": [
  {
   "cell_type": "markdown",
   "id": "17ee8971-ec71-46ce-89de-a91089c4428d",
   "metadata": {},
   "source": [
    "# Read File"
   ]
  },
  {
   "cell_type": "code",
   "execution_count": 27,
   "id": "bdb2e10a-5d8a-4393-911c-447d8e19cba7",
   "metadata": {},
   "outputs": [],
   "source": [
    "import pandas as pd\n",
    "df = pd.read_csv('netflix_titles.csv')"
   ]
  },
  {
   "cell_type": "markdown",
   "id": "300cb4bc-228b-49f5-a5f4-8f7160bbc330",
   "metadata": {},
   "source": [
    "# Connect to SQL Server"
   ]
  },
  {
   "cell_type": "code",
   "execution_count": 28,
   "id": "294e4bd0-2c04-4716-a9df-4e0b3b1be4c8",
   "metadata": {},
   "outputs": [],
   "source": [
    "import sqlalchemy as sal\n",
    "engine = sal.create_engine('mssql://DESKTOP-75GFRPA\\SQLEXPRESS/master?driver=ODBC+DRIVER+17+FOR+SQL+SERVER')\n",
    "conn=engine.connect()"
   ]
  },
  {
   "cell_type": "code",
   "execution_count": 29,
   "id": "289959d4-6137-4af8-a09c-551fba6a47ce",
   "metadata": {},
   "outputs": [],
   "source": [
    "df.to_sql('netflix_raw',con=conn,index=False,if_exists='append')\n",
    "conn.close()"
   ]
  },
  {
   "cell_type": "markdown",
   "id": "04cd82aa-ccbd-4db7-91c6-482353d629c3",
   "metadata": {},
   "source": [
    "# Check Column Length"
   ]
  },
  {
   "cell_type": "code",
   "execution_count": 11,
   "id": "25082913-1997-4d4c-89a3-081479e7f586",
   "metadata": {},
   "outputs": [
    {
     "data": {
      "text/plain": [
       "Index(['show_id', 'type', 'title', 'director', 'cast', 'country', 'date_added',\n",
       "       'release_year', 'rating', 'duration', 'listed_in', 'description'],\n",
       "      dtype='object')"
      ]
     },
     "execution_count": 11,
     "metadata": {},
     "output_type": "execute_result"
    }
   ],
   "source": [
    "df.columns"
   ]
  },
  {
   "cell_type": "code",
   "execution_count": 13,
   "id": "d939204f-1cf4-4ae9-9414-b7ddd648b6d4",
   "metadata": {},
   "outputs": [
    {
     "data": {
      "text/plain": [
       "5"
      ]
     },
     "execution_count": 13,
     "metadata": {},
     "output_type": "execute_result"
    }
   ],
   "source": [
    "max(df.show_id.dropna().str.len())"
   ]
  },
  {
   "cell_type": "code",
   "execution_count": 14,
   "id": "e60ae000-091c-4e7b-9f0d-d5862daefd3b",
   "metadata": {},
   "outputs": [
    {
     "data": {
      "text/plain": [
       "7"
      ]
     },
     "execution_count": 14,
     "metadata": {},
     "output_type": "execute_result"
    }
   ],
   "source": [
    "max(df.type.dropna().str.len())"
   ]
  },
  {
   "cell_type": "code",
   "execution_count": 15,
   "id": "462cccff-8eb4-4dee-aca2-1cdb61cbbfcf",
   "metadata": {},
   "outputs": [
    {
     "data": {
      "text/plain": [
       "104"
      ]
     },
     "execution_count": 15,
     "metadata": {},
     "output_type": "execute_result"
    }
   ],
   "source": [
    "max(df.title.dropna().str.len())"
   ]
  },
  {
   "cell_type": "code",
   "execution_count": 16,
   "id": "3ccb7040-8cc6-473e-9e49-b55485767216",
   "metadata": {},
   "outputs": [
    {
     "data": {
      "text/plain": [
       "208"
      ]
     },
     "execution_count": 16,
     "metadata": {},
     "output_type": "execute_result"
    }
   ],
   "source": [
    "max(df.director.dropna().str.len())"
   ]
  },
  {
   "cell_type": "code",
   "execution_count": 17,
   "id": "6c903772-a13f-4916-b899-ac9941cad73b",
   "metadata": {},
   "outputs": [
    {
     "data": {
      "text/plain": [
       "771"
      ]
     },
     "execution_count": 17,
     "metadata": {},
     "output_type": "execute_result"
    }
   ],
   "source": [
    "max(df.cast.dropna().str.len())"
   ]
  },
  {
   "cell_type": "code",
   "execution_count": 18,
   "id": "1578add4-7082-4e83-8d1c-71cf55d62825",
   "metadata": {},
   "outputs": [
    {
     "data": {
      "text/plain": [
       "123"
      ]
     },
     "execution_count": 18,
     "metadata": {},
     "output_type": "execute_result"
    }
   ],
   "source": [
    "max(df.country.dropna().str.len())"
   ]
  },
  {
   "cell_type": "code",
   "execution_count": 19,
   "id": "132ab86b-6c0f-4d67-bf47-6d47530250ba",
   "metadata": {},
   "outputs": [
    {
     "data": {
      "text/plain": [
       "19"
      ]
     },
     "execution_count": 19,
     "metadata": {},
     "output_type": "execute_result"
    }
   ],
   "source": [
    "max(df.date_added.dropna().str.len())"
   ]
  },
  {
   "cell_type": "code",
   "execution_count": 20,
   "id": "e68136b0-ce45-450b-9b3c-c867b3b6928d",
   "metadata": {},
   "outputs": [
    {
     "data": {
      "text/plain": [
       "8"
      ]
     },
     "execution_count": 20,
     "metadata": {},
     "output_type": "execute_result"
    }
   ],
   "source": [
    "max(df.rating.dropna().str.len())"
   ]
  },
  {
   "cell_type": "code",
   "execution_count": 21,
   "id": "cfb77e92-021e-430d-8948-979118cab7cf",
   "metadata": {},
   "outputs": [
    {
     "data": {
      "text/plain": [
       "10"
      ]
     },
     "execution_count": 21,
     "metadata": {},
     "output_type": "execute_result"
    }
   ],
   "source": [
    "max(df.duration.dropna().str.len())"
   ]
  },
  {
   "cell_type": "code",
   "execution_count": 22,
   "id": "f83cbf6e-581a-4bac-a35e-860d55980118",
   "metadata": {},
   "outputs": [
    {
     "data": {
      "text/plain": [
       "79"
      ]
     },
     "execution_count": 22,
     "metadata": {},
     "output_type": "execute_result"
    }
   ],
   "source": [
    "max(df.listed_in.dropna().str.len())"
   ]
  },
  {
   "cell_type": "code",
   "execution_count": 23,
   "id": "7fb0ec36-792a-45af-886b-9bf440c8f4e9",
   "metadata": {},
   "outputs": [
    {
     "data": {
      "text/plain": [
       "248"
      ]
     },
     "execution_count": 23,
     "metadata": {},
     "output_type": "execute_result"
    }
   ],
   "source": [
    "max(df.description.dropna().str.len())"
   ]
  },
  {
   "cell_type": "markdown",
   "id": "4e95c526-2a99-49ee-8101-789c960db096",
   "metadata": {},
   "source": [
    "# Find the missing values"
   ]
  },
  {
   "cell_type": "code",
   "execution_count": 30,
   "id": "d612e48a-69af-44a8-9d2b-1f7756f41cb9",
   "metadata": {},
   "outputs": [
    {
     "data": {
      "text/plain": [
       "show_id            0\n",
       "type               0\n",
       "title              0\n",
       "director        2634\n",
       "cast             825\n",
       "country          831\n",
       "date_added        10\n",
       "release_year       0\n",
       "rating             4\n",
       "duration           3\n",
       "listed_in          0\n",
       "description        0\n",
       "dtype: int64"
      ]
     },
     "execution_count": 30,
     "metadata": {},
     "output_type": "execute_result"
    }
   ],
   "source": [
    "# show how many null values in each column\n",
    "df.isna().sum()"
   ]
  },
  {
   "cell_type": "code",
   "execution_count": null,
   "id": "e8a7af68-b8ec-4235-922f-db77b583331c",
   "metadata": {},
   "outputs": [],
   "source": []
  }
 ],
 "metadata": {
  "kernelspec": {
   "display_name": "Python 3 (ipykernel)",
   "language": "python",
   "name": "python3"
  },
  "language_info": {
   "codemirror_mode": {
    "name": "ipython",
    "version": 3
   },
   "file_extension": ".py",
   "mimetype": "text/x-python",
   "name": "python",
   "nbconvert_exporter": "python",
   "pygments_lexer": "ipython3",
   "version": "3.11.7"
  }
 },
 "nbformat": 4,
 "nbformat_minor": 5
}
